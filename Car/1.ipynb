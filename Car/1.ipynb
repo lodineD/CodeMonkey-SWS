{
 "cells": [
  {
   "cell_type": "code",
   "execution_count": 60,
   "metadata": {},
   "outputs": [
    {
     "name": "stdout",
     "output_type": "stream",
     "text": [
      "2023-07-11T17:07:35\n"
     ]
    }
   ],
   "source": [
    "from PIL import Image\n",
    "import cv2\n",
    "import numpy as np\n",
    "import requests\n",
    "import json\n",
    "import requests\n",
    "from datetime import datetime\n",
    "\n",
    "time1 = datetime.now()\n",
    "formatted_time = time1.strftime(\"%Y-%m-%dT%H:%M:%S\")\n",
    "print(formatted_time)    "
   ]
  },
  {
   "cell_type": "code",
   "execution_count": 61,
   "metadata": {},
   "outputs": [
    {
     "name": "stdout",
     "output_type": "stream",
     "text": [
      "28212\n"
     ]
    }
   ],
   "source": [
    "\n",
    "url = 'https://api.data.gov.sg/v1/transport/traffic-images'\n",
    "headers = {\n",
    "    'Accept': 'application/json'\n",
    "}\n",
    "\n",
    "params = {\n",
    "    # 'date_time': input(\"date_time YYYY-MM-DD[T]HH:mm:ss (SGT):\")  \n",
    "    'date_time' : formatted_time\n",
    "}\n",
    "\n",
    "response = requests.get(url, headers=headers, params=params)\n",
    "\n",
    "if response.status_code == 200:\n",
    "    data = response.json()\n",
    "    # 在这里处理返回的数据\n",
    "    # print(json.dumps(data, indent=2))\n",
    "    header = response.headers\n",
    "    print(header[\"Content-Length\"])\n",
    "    num = int(header[\"Content-Length\"])\n",
    "else:\n",
    "    print('请求失败:', response.status_code)\n",
    "\n",
    "result = {\"num\" : num,\"body\" : []}"
   ]
  },
  {
   "cell_type": "code",
   "execution_count": 62,
   "metadata": {},
   "outputs": [],
   "source": [
    "def Car_Detection(path):\n",
    "    image = Image.open(path)\n",
    "    image = image.resize((450,250))\n",
    "    image_arr = np.array(image)\n",
    "    grey = cv2.cvtColor(image_arr,cv2.COLOR_BGR2GRAY)\n",
    "    Image.fromarray(grey)\n",
    "    blur = cv2.GaussianBlur(grey,(5,5),0)\n",
    "    Image.fromarray(blur)\n",
    "    dilated = cv2.dilate(blur,np.ones((3,3)))\n",
    "    Image.fromarray(dilated)\n",
    "    kernel = cv2.getStructuringElement(cv2.MORPH_ELLIPSE, (2, 2))\n",
    "    closing = cv2.morphologyEx(dilated, cv2.MORPH_CLOSE, kernel) \n",
    "    Image.fromarray(closing)\n",
    "    car_cascade = cv2.CascadeClassifier('cars.xml')\n",
    "    cars = car_cascade.detectMultiScale(closing, 1.1, 1)\n",
    "    return len(cars)"
   ]
  },
  {
   "cell_type": "code",
   "execution_count": 63,
   "metadata": {},
   "outputs": [
    {
     "name": "stdout",
     "output_type": "stream",
     "text": [
      "./img/img1.jpg\n",
      "car : 8\n",
      "./img/img2.jpg\n",
      "car : 5\n",
      "./img/img3.jpg\n",
      "car : 9\n",
      "./img/img4.jpg\n",
      "car : 4\n",
      "./img/img5.jpg\n",
      "car : 3\n",
      "./img/img6.jpg\n",
      "car : 6\n",
      "./img/img7.jpg\n",
      "car : 2\n",
      "./img/img8.jpg\n",
      "car : 1\n",
      "./img/img9.jpg\n",
      "car : 3\n",
      "./img/img10.jpg\n",
      "car : 3\n",
      "./img/img11.jpg\n",
      "car : 0\n",
      "./img/img12.jpg\n",
      "car : 3\n",
      "./img/img13.jpg\n",
      "car : 4\n",
      "./img/img14.jpg\n",
      "car : 1\n",
      "./img/img15.jpg\n",
      "car : 2\n",
      "./img/img16.jpg\n",
      "car : 3\n",
      "./img/img17.jpg\n",
      "car : 1\n",
      "./img/img18.jpg\n",
      "car : 5\n",
      "./img/img19.jpg\n",
      "car : 1\n",
      "./img/img20.jpg\n",
      "car : 3\n",
      "./img/img21.jpg\n",
      "car : 3\n",
      "./img/img22.jpg\n",
      "car : 3\n",
      "./img/img23.jpg\n",
      "car : 8\n",
      "./img/img24.jpg\n",
      "car : 3\n",
      "./img/img25.jpg\n",
      "car : 4\n",
      "./img/img26.jpg\n",
      "car : 2\n",
      "./img/img27.jpg\n",
      "car : 0\n",
      "./img/img28.jpg\n",
      "car : 7\n"
     ]
    }
   ],
   "source": [
    "for i in range (0,int(num/1000)):\n",
    "    image_url = data[\"items\"][0][\"cameras\"][i][\"image\"]\n",
    "    loc = data[\"items\"][0][\"cameras\"][i][\"location\"]\n",
    "    response = requests.get(image_url)\n",
    "    if response.status_code == 200:\n",
    "        img_name = \"./img/img\"+str(i+1)+\".jpg\"\n",
    "        with open(img_name, \"wb\") as f:\n",
    "            f.write(response.content)\n",
    "    else:\n",
    "        print(\"图片下载失败:\", response.status_code)\n",
    "    print(img_name)\n",
    "    car_num = Car_Detection(img_name)\n",
    "    print(\"car : \" + str(car_num))\n",
    "    result[\"body\"].append({\"location\":loc,\"car_num\":car_num,\"image_name\":img_name})"
   ]
  },
  {
   "cell_type": "code",
   "execution_count": 64,
   "metadata": {},
   "outputs": [],
   "source": [
    "with open(\"result.json\", \"w\") as file:\n",
    "    json.dump(result, file,indent=4)"
   ]
  }
 ],
 "metadata": {
  "kernelspec": {
   "display_name": "pytorch",
   "language": "python",
   "name": "python3"
  },
  "language_info": {
   "codemirror_mode": {
    "name": "ipython",
    "version": 3
   },
   "file_extension": ".py",
   "mimetype": "text/x-python",
   "name": "python",
   "nbconvert_exporter": "python",
   "pygments_lexer": "ipython3",
   "version": "3.9.16"
  },
  "orig_nbformat": 4
 },
 "nbformat": 4,
 "nbformat_minor": 2
}
